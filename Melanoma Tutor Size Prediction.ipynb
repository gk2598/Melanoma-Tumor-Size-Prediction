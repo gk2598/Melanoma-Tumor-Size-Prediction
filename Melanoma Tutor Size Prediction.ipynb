{
 "cells": [
  {
   "cell_type": "markdown",
   "metadata": {},
   "source": [
    "# Melanoma Tumor Size Prediction"
   ]
  },
  {
   "cell_type": "code",
   "execution_count": 511,
   "metadata": {},
   "outputs": [],
   "source": [
    "import pandas as pd\n",
    "import numpy as np\n",
    "import matplotlib.pyplot as plt\n",
    "import seaborn as sns"
   ]
  },
  {
   "cell_type": "markdown",
   "metadata": {},
   "source": [
    "## Reading the Training and Testing Data"
   ]
  },
  {
   "cell_type": "code",
   "execution_count": 512,
   "metadata": {},
   "outputs": [
    {
     "name": "stdout",
     "output_type": "stream",
     "text": [
      "(9146, 10)\n"
     ]
    },
    {
     "data": {
      "text/html": [
       "<div>\n",
       "<style scoped>\n",
       "    .dataframe tbody tr th:only-of-type {\n",
       "        vertical-align: middle;\n",
       "    }\n",
       "\n",
       "    .dataframe tbody tr th {\n",
       "        vertical-align: top;\n",
       "    }\n",
       "\n",
       "    .dataframe thead th {\n",
       "        text-align: right;\n",
       "    }\n",
       "</style>\n",
       "<table border=\"1\" class=\"dataframe\">\n",
       "  <thead>\n",
       "    <tr style=\"text-align: right;\">\n",
       "      <th></th>\n",
       "      <th>mass_npea</th>\n",
       "      <th>size_npear</th>\n",
       "      <th>malign_ratio</th>\n",
       "      <th>damage_size</th>\n",
       "      <th>exposed_area</th>\n",
       "      <th>std_dev_malign</th>\n",
       "      <th>err_malign</th>\n",
       "      <th>malign_penalty</th>\n",
       "      <th>damage_ratio</th>\n",
       "      <th>tumor_size</th>\n",
       "    </tr>\n",
       "  </thead>\n",
       "  <tbody>\n",
       "    <tr>\n",
       "      <th>0</th>\n",
       "      <td>6930.90</td>\n",
       "      <td>2919.02</td>\n",
       "      <td>0.42116</td>\n",
       "      <td>51.8298</td>\n",
       "      <td>9.888294e+05</td>\n",
       "      <td>109.487</td>\n",
       "      <td>2758.76</td>\n",
       "      <td>72</td>\n",
       "      <td>39.3620</td>\n",
       "      <td>14.103</td>\n",
       "    </tr>\n",
       "    <tr>\n",
       "      <th>1</th>\n",
       "      <td>15635.70</td>\n",
       "      <td>4879.36</td>\n",
       "      <td>0.31206</td>\n",
       "      <td>223.5500</td>\n",
       "      <td>2.058426e+06</td>\n",
       "      <td>248.881</td>\n",
       "      <td>5952.53</td>\n",
       "      <td>240</td>\n",
       "      <td>22.0253</td>\n",
       "      <td>2.648</td>\n",
       "    </tr>\n",
       "    <tr>\n",
       "      <th>2</th>\n",
       "      <td>10376.20</td>\n",
       "      <td>2613.88</td>\n",
       "      <td>0.25191</td>\n",
       "      <td>127.3370</td>\n",
       "      <td>1.434676e+06</td>\n",
       "      <td>160.093</td>\n",
       "      <td>4635.26</td>\n",
       "      <td>73</td>\n",
       "      <td>29.9963</td>\n",
       "      <td>1.688</td>\n",
       "    </tr>\n",
       "    <tr>\n",
       "      <th>3</th>\n",
       "      <td>13093.80</td>\n",
       "      <td>4510.06</td>\n",
       "      <td>0.34444</td>\n",
       "      <td>155.4400</td>\n",
       "      <td>1.812195e+06</td>\n",
       "      <td>173.015</td>\n",
       "      <td>5273.87</td>\n",
       "      <td>32</td>\n",
       "      <td>28.1354</td>\n",
       "      <td>3.796</td>\n",
       "    </tr>\n",
       "    <tr>\n",
       "      <th>4</th>\n",
       "      <td>7545.21</td>\n",
       "      <td>2882.36</td>\n",
       "      <td>0.38201</td>\n",
       "      <td>85.1237</td>\n",
       "      <td>1.043918e+06</td>\n",
       "      <td>124.414</td>\n",
       "      <td>3263.35</td>\n",
       "      <td>57</td>\n",
       "      <td>35.0200</td>\n",
       "      <td>18.023</td>\n",
       "    </tr>\n",
       "  </tbody>\n",
       "</table>\n",
       "</div>"
      ],
      "text/plain": [
       "   mass_npea  size_npear  malign_ratio  damage_size  exposed_area  \\\n",
       "0    6930.90     2919.02       0.42116      51.8298  9.888294e+05   \n",
       "1   15635.70     4879.36       0.31206     223.5500  2.058426e+06   \n",
       "2   10376.20     2613.88       0.25191     127.3370  1.434676e+06   \n",
       "3   13093.80     4510.06       0.34444     155.4400  1.812195e+06   \n",
       "4    7545.21     2882.36       0.38201      85.1237  1.043918e+06   \n",
       "\n",
       "   std_dev_malign  err_malign  malign_penalty  damage_ratio  tumor_size  \n",
       "0         109.487     2758.76              72       39.3620      14.103  \n",
       "1         248.881     5952.53             240       22.0253       2.648  \n",
       "2         160.093     4635.26              73       29.9963       1.688  \n",
       "3         173.015     5273.87              32       28.1354       3.796  \n",
       "4         124.414     3263.35              57       35.0200      18.023  "
      ]
     },
     "execution_count": 512,
     "metadata": {},
     "output_type": "execute_result"
    }
   ],
   "source": [
    "train = pd.read_csv(r'C:\\Users\\Gaurav Kesari\\Melanoma Tumor Size Prediction\\train.csv')\n",
    "print(train.shape)\n",
    "train.head()"
   ]
  },
  {
   "cell_type": "code",
   "execution_count": 513,
   "metadata": {},
   "outputs": [
    {
     "name": "stdout",
     "output_type": "stream",
     "text": [
      "(36584, 9)\n"
     ]
    },
    {
     "data": {
      "text/html": [
       "<div>\n",
       "<style scoped>\n",
       "    .dataframe tbody tr th:only-of-type {\n",
       "        vertical-align: middle;\n",
       "    }\n",
       "\n",
       "    .dataframe tbody tr th {\n",
       "        vertical-align: top;\n",
       "    }\n",
       "\n",
       "    .dataframe thead th {\n",
       "        text-align: right;\n",
       "    }\n",
       "</style>\n",
       "<table border=\"1\" class=\"dataframe\">\n",
       "  <thead>\n",
       "    <tr style=\"text-align: right;\">\n",
       "      <th></th>\n",
       "      <th>mass_npea</th>\n",
       "      <th>size_npear</th>\n",
       "      <th>malign_ratio</th>\n",
       "      <th>damage_size</th>\n",
       "      <th>exposed_area</th>\n",
       "      <th>std_dev_malign</th>\n",
       "      <th>err_malign</th>\n",
       "      <th>malign_penalty</th>\n",
       "      <th>damage_ratio</th>\n",
       "    </tr>\n",
       "  </thead>\n",
       "  <tbody>\n",
       "    <tr>\n",
       "      <th>0</th>\n",
       "      <td>4946.44</td>\n",
       "      <td>914.06</td>\n",
       "      <td>0.18479</td>\n",
       "      <td>54.5566</td>\n",
       "      <td>6.628345e+05</td>\n",
       "      <td>67.0525</td>\n",
       "      <td>2301.76</td>\n",
       "      <td>22</td>\n",
       "      <td>41.9554</td>\n",
       "    </tr>\n",
       "    <tr>\n",
       "      <th>1</th>\n",
       "      <td>5613.85</td>\n",
       "      <td>1629.12</td>\n",
       "      <td>0.29019</td>\n",
       "      <td>51.5524</td>\n",
       "      <td>7.842271e+05</td>\n",
       "      <td>80.1986</td>\n",
       "      <td>3235.00</td>\n",
       "      <td>48</td>\n",
       "      <td>40.7410</td>\n",
       "    </tr>\n",
       "    <tr>\n",
       "      <th>2</th>\n",
       "      <td>12421.10</td>\n",
       "      <td>3062.41</td>\n",
       "      <td>0.24654</td>\n",
       "      <td>154.1560</td>\n",
       "      <td>1.763575e+06</td>\n",
       "      <td>186.8590</td>\n",
       "      <td>4684.63</td>\n",
       "      <td>63</td>\n",
       "      <td>29.4778</td>\n",
       "    </tr>\n",
       "    <tr>\n",
       "      <th>3</th>\n",
       "      <td>6830.77</td>\n",
       "      <td>2457.66</td>\n",
       "      <td>0.35979</td>\n",
       "      <td>56.8995</td>\n",
       "      <td>9.296623e+05</td>\n",
       "      <td>92.7361</td>\n",
       "      <td>3211.93</td>\n",
       "      <td>42</td>\n",
       "      <td>38.5027</td>\n",
       "    </tr>\n",
       "    <tr>\n",
       "      <th>4</th>\n",
       "      <td>33407.80</td>\n",
       "      <td>12353.60</td>\n",
       "      <td>0.36978</td>\n",
       "      <td>219.0740</td>\n",
       "      <td>4.595871e+06</td>\n",
       "      <td>493.3370</td>\n",
       "      <td>13389.36</td>\n",
       "      <td>187</td>\n",
       "      <td>26.8449</td>\n",
       "    </tr>\n",
       "  </tbody>\n",
       "</table>\n",
       "</div>"
      ],
      "text/plain": [
       "   mass_npea  size_npear  malign_ratio  damage_size  exposed_area  \\\n",
       "0    4946.44      914.06       0.18479      54.5566  6.628345e+05   \n",
       "1    5613.85     1629.12       0.29019      51.5524  7.842271e+05   \n",
       "2   12421.10     3062.41       0.24654     154.1560  1.763575e+06   \n",
       "3    6830.77     2457.66       0.35979      56.8995  9.296623e+05   \n",
       "4   33407.80    12353.60       0.36978     219.0740  4.595871e+06   \n",
       "\n",
       "   std_dev_malign  err_malign  malign_penalty  damage_ratio  \n",
       "0         67.0525     2301.76              22       41.9554  \n",
       "1         80.1986     3235.00              48       40.7410  \n",
       "2        186.8590     4684.63              63       29.4778  \n",
       "3         92.7361     3211.93              42       38.5027  \n",
       "4        493.3370    13389.36             187       26.8449  "
      ]
     },
     "execution_count": 513,
     "metadata": {},
     "output_type": "execute_result"
    }
   ],
   "source": [
    "test = pd.read_csv(r'C:\\Users\\Gaurav Kesari\\Melanoma Tumor Size Prediction\\test.csv')\n",
    "print(test.shape)\n",
    "test.head()"
   ]
  },
  {
   "cell_type": "code",
   "execution_count": 514,
   "metadata": {},
   "outputs": [
    {
     "name": "stdout",
     "output_type": "stream",
     "text": [
      "<class 'pandas.core.frame.DataFrame'>\n",
      "RangeIndex: 9146 entries, 0 to 9145\n",
      "Data columns (total 10 columns):\n",
      " #   Column          Non-Null Count  Dtype  \n",
      "---  ------          --------------  -----  \n",
      " 0   mass_npea       9146 non-null   float64\n",
      " 1   size_npear      9146 non-null   float64\n",
      " 2   malign_ratio    9146 non-null   float64\n",
      " 3   damage_size     9146 non-null   float64\n",
      " 4   exposed_area    9146 non-null   float64\n",
      " 5   std_dev_malign  9146 non-null   float64\n",
      " 6   err_malign      9146 non-null   float64\n",
      " 7   malign_penalty  9146 non-null   int64  \n",
      " 8   damage_ratio    9146 non-null   float64\n",
      " 9   tumor_size      9146 non-null   float64\n",
      "dtypes: float64(9), int64(1)\n",
      "memory usage: 714.7 KB\n"
     ]
    }
   ],
   "source": [
    "train.info()"
   ]
  },
  {
   "cell_type": "code",
   "execution_count": 515,
   "metadata": {},
   "outputs": [
    {
     "name": "stdout",
     "output_type": "stream",
     "text": [
      "<class 'pandas.core.frame.DataFrame'>\n",
      "RangeIndex: 36584 entries, 0 to 36583\n",
      "Data columns (total 9 columns):\n",
      " #   Column          Non-Null Count  Dtype  \n",
      "---  ------          --------------  -----  \n",
      " 0   mass_npea       36584 non-null  float64\n",
      " 1   size_npear      36584 non-null  float64\n",
      " 2   malign_ratio    36584 non-null  float64\n",
      " 3   damage_size     36584 non-null  float64\n",
      " 4   exposed_area    36584 non-null  float64\n",
      " 5   std_dev_malign  36584 non-null  float64\n",
      " 6   err_malign      36584 non-null  float64\n",
      " 7   malign_penalty  36584 non-null  int64  \n",
      " 8   damage_ratio    36584 non-null  float64\n",
      "dtypes: float64(8), int64(1)\n",
      "memory usage: 2.5 MB\n"
     ]
    }
   ],
   "source": [
    "test.info()"
   ]
  },
  {
   "cell_type": "code",
   "execution_count": 516,
   "metadata": {},
   "outputs": [
    {
     "data": {
      "text/plain": [
       "mass_npea         8847\n",
       "size_npear        8859\n",
       "malign_ratio      7386\n",
       "damage_size       8861\n",
       "exposed_area      8949\n",
       "std_dev_malign    8802\n",
       "err_malign        8831\n",
       "malign_penalty     315\n",
       "damage_ratio      8641\n",
       "tumor_size        6511\n",
       "dtype: int64"
      ]
     },
     "execution_count": 516,
     "metadata": {},
     "output_type": "execute_result"
    }
   ],
   "source": [
    "train.nunique()"
   ]
  },
  {
   "cell_type": "code",
   "execution_count": 517,
   "metadata": {},
   "outputs": [
    {
     "data": {
      "text/plain": [
       "mass_npea         32718\n",
       "size_npear        32694\n",
       "malign_ratio      18248\n",
       "damage_size       33065\n",
       "exposed_area      34016\n",
       "std_dev_malign    32186\n",
       "err_malign        32380\n",
       "malign_penalty      340\n",
       "damage_ratio      30895\n",
       "dtype: int64"
      ]
     },
     "execution_count": 517,
     "metadata": {},
     "output_type": "execute_result"
    }
   ],
   "source": [
    "test.nunique()"
   ]
  },
  {
   "cell_type": "code",
   "execution_count": 518,
   "metadata": {
    "scrolled": true
   },
   "outputs": [],
   "source": [
    "# sns.pairplot(train)"
   ]
  },
  {
   "cell_type": "code",
   "execution_count": 519,
   "metadata": {
    "scrolled": true
   },
   "outputs": [
    {
     "data": {
      "text/html": [
       "<div>\n",
       "<style scoped>\n",
       "    .dataframe tbody tr th:only-of-type {\n",
       "        vertical-align: middle;\n",
       "    }\n",
       "\n",
       "    .dataframe tbody tr th {\n",
       "        vertical-align: top;\n",
       "    }\n",
       "\n",
       "    .dataframe thead th {\n",
       "        text-align: right;\n",
       "    }\n",
       "</style>\n",
       "<table border=\"1\" class=\"dataframe\">\n",
       "  <thead>\n",
       "    <tr style=\"text-align: right;\">\n",
       "      <th></th>\n",
       "      <th>mass_npea</th>\n",
       "      <th>size_npear</th>\n",
       "      <th>malign_ratio</th>\n",
       "      <th>damage_size</th>\n",
       "      <th>exposed_area</th>\n",
       "      <th>std_dev_malign</th>\n",
       "      <th>err_malign</th>\n",
       "      <th>malign_penalty</th>\n",
       "      <th>damage_ratio</th>\n",
       "      <th>tumor_size</th>\n",
       "    </tr>\n",
       "  </thead>\n",
       "  <tbody>\n",
       "    <tr>\n",
       "      <th>count</th>\n",
       "      <td>9146.000000</td>\n",
       "      <td>9146.000000</td>\n",
       "      <td>9146.000000</td>\n",
       "      <td>9146.000000</td>\n",
       "      <td>9.146000e+03</td>\n",
       "      <td>9146.000000</td>\n",
       "      <td>9146.000000</td>\n",
       "      <td>9146.000000</td>\n",
       "      <td>9146.000000</td>\n",
       "      <td>9146.000000</td>\n",
       "    </tr>\n",
       "    <tr>\n",
       "      <th>mean</th>\n",
       "      <td>9903.052174</td>\n",
       "      <td>3032.827837</td>\n",
       "      <td>0.303083</td>\n",
       "      <td>103.902118</td>\n",
       "      <td>1.372442e+06</td>\n",
       "      <td>146.304239</td>\n",
       "      <td>3992.936256</td>\n",
       "      <td>69.849661</td>\n",
       "      <td>34.461652</td>\n",
       "      <td>7.723348</td>\n",
       "    </tr>\n",
       "    <tr>\n",
       "      <th>std</th>\n",
       "      <td>4060.577116</td>\n",
       "      <td>1462.334147</td>\n",
       "      <td>0.062533</td>\n",
       "      <td>55.456862</td>\n",
       "      <td>5.646773e+05</td>\n",
       "      <td>70.512177</td>\n",
       "      <td>1780.672859</td>\n",
       "      <td>55.785332</td>\n",
       "      <td>5.972808</td>\n",
       "      <td>6.086852</td>\n",
       "    </tr>\n",
       "    <tr>\n",
       "      <th>min</th>\n",
       "      <td>2864.760000</td>\n",
       "      <td>510.530000</td>\n",
       "      <td>0.114820</td>\n",
       "      <td>10.310100</td>\n",
       "      <td>3.878534e+05</td>\n",
       "      <td>31.970400</td>\n",
       "      <td>1089.190000</td>\n",
       "      <td>0.000000</td>\n",
       "      <td>15.228000</td>\n",
       "      <td>0.000000</td>\n",
       "    </tr>\n",
       "    <tr>\n",
       "      <th>25%</th>\n",
       "      <td>6988.420000</td>\n",
       "      <td>1983.657500</td>\n",
       "      <td>0.259053</td>\n",
       "      <td>64.012525</td>\n",
       "      <td>9.596873e+05</td>\n",
       "      <td>95.853900</td>\n",
       "      <td>3177.682500</td>\n",
       "      <td>31.000000</td>\n",
       "      <td>30.290225</td>\n",
       "      <td>2.320000</td>\n",
       "    </tr>\n",
       "    <tr>\n",
       "      <th>50%</th>\n",
       "      <td>8895.965000</td>\n",
       "      <td>2684.330000</td>\n",
       "      <td>0.301055</td>\n",
       "      <td>88.458300</td>\n",
       "      <td>1.237057e+06</td>\n",
       "      <td>126.138500</td>\n",
       "      <td>3846.320000</td>\n",
       "      <td>54.000000</td>\n",
       "      <td>35.245750</td>\n",
       "      <td>5.060500</td>\n",
       "    </tr>\n",
       "    <tr>\n",
       "      <th>75%</th>\n",
       "      <td>12119.950000</td>\n",
       "      <td>3830.745000</td>\n",
       "      <td>0.343002</td>\n",
       "      <td>134.209000</td>\n",
       "      <td>1.693083e+06</td>\n",
       "      <td>182.251500</td>\n",
       "      <td>4664.577500</td>\n",
       "      <td>91.000000</td>\n",
       "      <td>38.806075</td>\n",
       "      <td>13.336000</td>\n",
       "    </tr>\n",
       "    <tr>\n",
       "      <th>max</th>\n",
       "      <td>36995.400000</td>\n",
       "      <td>13535.000000</td>\n",
       "      <td>0.525300</td>\n",
       "      <td>346.420000</td>\n",
       "      <td>4.978616e+06</td>\n",
       "      <td>528.890000</td>\n",
       "      <td>91983.700000</td>\n",
       "      <td>340.000000</td>\n",
       "      <td>46.546400</td>\n",
       "      <td>20.999000</td>\n",
       "    </tr>\n",
       "  </tbody>\n",
       "</table>\n",
       "</div>"
      ],
      "text/plain": [
       "          mass_npea    size_npear  malign_ratio  damage_size  exposed_area  \\\n",
       "count   9146.000000   9146.000000   9146.000000  9146.000000  9.146000e+03   \n",
       "mean    9903.052174   3032.827837      0.303083   103.902118  1.372442e+06   \n",
       "std     4060.577116   1462.334147      0.062533    55.456862  5.646773e+05   \n",
       "min     2864.760000    510.530000      0.114820    10.310100  3.878534e+05   \n",
       "25%     6988.420000   1983.657500      0.259053    64.012525  9.596873e+05   \n",
       "50%     8895.965000   2684.330000      0.301055    88.458300  1.237057e+06   \n",
       "75%    12119.950000   3830.745000      0.343002   134.209000  1.693083e+06   \n",
       "max    36995.400000  13535.000000      0.525300   346.420000  4.978616e+06   \n",
       "\n",
       "       std_dev_malign    err_malign  malign_penalty  damage_ratio   tumor_size  \n",
       "count     9146.000000   9146.000000     9146.000000   9146.000000  9146.000000  \n",
       "mean       146.304239   3992.936256       69.849661     34.461652     7.723348  \n",
       "std         70.512177   1780.672859       55.785332      5.972808     6.086852  \n",
       "min         31.970400   1089.190000        0.000000     15.228000     0.000000  \n",
       "25%         95.853900   3177.682500       31.000000     30.290225     2.320000  \n",
       "50%        126.138500   3846.320000       54.000000     35.245750     5.060500  \n",
       "75%        182.251500   4664.577500       91.000000     38.806075    13.336000  \n",
       "max        528.890000  91983.700000      340.000000     46.546400    20.999000  "
      ]
     },
     "execution_count": 519,
     "metadata": {},
     "output_type": "execute_result"
    }
   ],
   "source": [
    "train.describe()"
   ]
  },
  {
   "cell_type": "code",
   "execution_count": 520,
   "metadata": {},
   "outputs": [],
   "source": [
    "\n",
    "# train['err_malign']=train['err_malign'].transform(np.log)\n",
    "\n",
    "\n"
   ]
  },
  {
   "cell_type": "code",
   "execution_count": 521,
   "metadata": {},
   "outputs": [
    {
     "data": {
      "text/plain": [
       "<matplotlib.axes._subplots.AxesSubplot at 0x17137aec670>"
      ]
     },
     "execution_count": 521,
     "metadata": {},
     "output_type": "execute_result"
    },
    {
     "data": {
      "image/png": "[encoded data removed]",
      "text/plain": [
       "<Figure size 432x288 with 1 Axes>"
      ]
     },
     "metadata": {
      "needs_background": "light"
     },
     "output_type": "display_data"
    }
   ],
   "source": [
    "sns.boxplot(data=train, x= train['err_malign'])"
   ]
  },
  {
   "cell_type": "code",
   "execution_count": 522,
   "metadata": {},
   "outputs": [
    {
     "name": "stdout",
     "output_type": "stream",
     "text": [
      "1486.8949999999995\n",
      "-1283.0024999999987\n",
      "9125.262499999997\n"
     ]
    },
    {
     "data": {
      "text/plain": [
       "count    9146.000000\n",
       "mean     3944.820995\n",
       "std      1165.739064\n",
       "min      1089.190000\n",
       "25%      3177.682500\n",
       "50%      3846.320000\n",
       "75%      4664.577500\n",
       "max      9125.260000\n",
       "Name: err_malign, dtype: float64"
      ]
     },
     "execution_count": 522,
     "metadata": {},
     "output_type": "execute_result"
    },
    {
     "data": {
      "image/png": "[encoded data removed]",
      "text/plain": [
       "<Figure size 432x288 with 1 Axes>"
      ]
     },
     "metadata": {
      "needs_background": "light"
     },
     "output_type": "display_data"
    }
   ],
   "source": [
    "IQR = train['err_malign'].quantile(.75)-train['err_malign'].quantile(0.25)\n",
    "lower_bridges = train['err_malign'].quantile(.25)-(IQR*3)\n",
    "upper_bridges = train['err_malign'].quantile(.75)+(IQR*3)\n",
    "print(IQR)\n",
    "print(lower_bridges)\n",
    "print(upper_bridges)\n",
    "train.loc[train['err_malign']>=9125.26, 'err_malign']=9125.26\n",
    "\n",
    "figure=train.err_malign.hist(bins=100)\n",
    "figure.set_xlabel('err_malign')\n",
    "figure.set_ylabel('A')\n",
    "train['err_malign'].describe()"
   ]
  },
  {
   "cell_type": "code",
   "execution_count": 523,
   "metadata": {},
   "outputs": [
    {
     "data": {
      "text/plain": [
       "<matplotlib.axes._subplots.AxesSubplot at 0x17133844370>"
      ]
     },
     "execution_count": 523,
     "metadata": {},
     "output_type": "execute_result"
    },
    {
     "data": {
      "image/png": "[encoded data removed]",
      "text/plain": [
       "<Figure size 432x288 with 1 Axes>"
      ]
     },
     "metadata": {
      "needs_background": "light"
     },
     "output_type": "display_data"
    }
   ],
   "source": [
    "sns.boxplot(data=train, x= train['mass_npea'])"
   ]
  },
  {
   "cell_type": "code",
   "execution_count": 524,
   "metadata": {},
   "outputs": [
    {
     "name": "stdout",
     "output_type": "stream",
     "text": [
      "5131.529999999999\n",
      "-8406.169999999996\n",
      "27514.539999999994\n"
     ]
    },
    {
     "data": {
      "text/plain": [
       "count     9146.000000\n",
       "mean      9900.892133\n",
       "std       4049.686357\n",
       "min       2864.760000\n",
       "25%       6988.420000\n",
       "50%       8895.965000\n",
       "75%      12119.950000\n",
       "max      27514.530000\n",
       "Name: mass_npea, dtype: float64"
      ]
     },
     "execution_count": 524,
     "metadata": {},
     "output_type": "execute_result"
    },
    {
     "data": {
      "image/png": "[encoded data removed]",
      "text/plain": [
       "<Figure size 432x288 with 1 Axes>"
      ]
     },
     "metadata": {
      "needs_background": "light"
     },
     "output_type": "display_data"
    }
   ],
   "source": [
    "IQR = train['mass_npea'].quantile(.75)-train['mass_npea'].quantile(0.25)\n",
    "lower_bridges = train['mass_npea'].quantile(.25)-(IQR*3)\n",
    "upper_bridges = train['mass_npea'].quantile(.75)+(IQR*3)\n",
    "print(IQR)\n",
    "print(lower_bridges)\n",
    "print(upper_bridges)\n",
    "train.loc[train['mass_npea']>=27514.53, 'mass_npea']=27514.53\n",
    "\n",
    "figure=train.mass_npea.hist(bins=100)\n",
    "figure.set_xlabel('mass_npea')\n",
    "figure.set_ylabel('A')\n",
    "train['mass_npea'].describe()"
   ]
  },
  {
   "cell_type": "code",
   "execution_count": 525,
   "metadata": {},
   "outputs": [
    {
     "data": {
      "text/plain": [
       "<matplotlib.axes._subplots.AxesSubplot at 0x171349094f0>"
      ]
     },
     "execution_count": 525,
     "metadata": {},
     "output_type": "execute_result"
    },
    {
     "data": {
      "image/png": "[encoded data removed]",
      "text/plain": [
       "<Figure size 432x288 with 1 Axes>"
      ]
     },
     "metadata": {
      "needs_background": "light"
     },
     "output_type": "display_data"
    }
   ],
   "source": [
    "sns.boxplot(data=train, x= train['size_npear'])"
   ]
  },
  {
   "cell_type": "code",
   "execution_count": 526,
   "metadata": {},
   "outputs": [
    {
     "name": "stdout",
     "output_type": "stream",
     "text": [
      "1847.0874999999999\n",
      "-3557.6049999999996\n",
      "9372.0075\n"
     ]
    },
    {
     "data": {
      "text/plain": [
       "count    9146.000000\n",
       "mean     3031.004582\n",
       "std      1453.030850\n",
       "min       510.530000\n",
       "25%      1983.657500\n",
       "50%      2684.330000\n",
       "75%      3830.745000\n",
       "max      9372.000000\n",
       "Name: size_npear, dtype: float64"
      ]
     },
     "execution_count": 526,
     "metadata": {},
     "output_type": "execute_result"
    },
    {
     "data": {
      "image/png": "[encoded data removed]",
      "text/plain": [
       "<Figure size 432x288 with 1 Axes>"
      ]
     },
     "metadata": {
      "needs_background": "light"
     },
     "output_type": "display_data"
    }
   ],
   "source": [
    "IQR = train['size_npear'].quantile(.75)-train['size_npear'].quantile(0.25)\n",
    "lower_bridges = train['size_npear'].quantile(.25)-(IQR*3)\n",
    "upper_bridges = train['size_npear'].quantile(.75)+(IQR*3)\n",
    "print(IQR)\n",
    "print(lower_bridges)\n",
    "print(upper_bridges)\n",
    "train.loc[train['size_npear']>=9372, 'size_npear']=9372\n",
    "\n",
    "figure=train.size_npear.hist(bins=100)\n",
    "figure.set_xlabel('size_npear')\n",
    "figure.set_ylabel('A')\n",
    "train['size_npear'].describe()"
   ]
  },
  {
   "cell_type": "code",
   "execution_count": 527,
   "metadata": {},
   "outputs": [
    {
     "data": {
      "text/plain": [
       "<matplotlib.axes._subplots.AxesSubplot at 0x17134bd6340>"
      ]
     },
     "execution_count": 527,
     "metadata": {},
     "output_type": "execute_result"
    },
    {
     "data": {
      "image/png": "[encoded data removed]",
      "text/plain": [
       "<Figure size 432x288 with 1 Axes>"
      ]
     },
     "metadata": {
      "needs_background": "light"
     },
     "output_type": "display_data"
    }
   ],
   "source": [
    "sns.boxplot(data=train, x= train['damage_ratio'])"
   ]
  },
  {
   "cell_type": "code",
   "execution_count": 528,
   "metadata": {},
   "outputs": [
    {
     "data": {
      "text/plain": [
       "<matplotlib.axes._subplots.AxesSubplot at 0x171334a65e0>"
      ]
     },
     "execution_count": 528,
     "metadata": {},
     "output_type": "execute_result"
    },
    {
     "data": {
      "image/png": "[encoded data removed]",
      "text/plain": [
       "<Figure size 432x288 with 1 Axes>"
      ]
     },
     "metadata": {
      "needs_background": "light"
     },
     "output_type": "display_data"
    }
   ],
   "source": [
    "sns.boxplot(data=train, x= train['std_dev_malign'])"
   ]
  },
  {
   "cell_type": "code",
   "execution_count": 529,
   "metadata": {},
   "outputs": [
    {
     "name": "stdout",
     "output_type": "stream",
     "text": [
      "86.39760000000003\n",
      "-163.33890000000008\n",
      "441.4443000000001\n"
     ]
    },
    {
     "data": {
      "text/plain": [
       "count    9146.000000\n",
       "mean      146.286978\n",
       "std        70.432841\n",
       "min        31.970400\n",
       "25%        95.853900\n",
       "50%       126.138500\n",
       "75%       182.251500\n",
       "max       441.444300\n",
       "Name: std_dev_malign, dtype: float64"
      ]
     },
     "execution_count": 529,
     "metadata": {},
     "output_type": "execute_result"
    },
    {
     "data": {
      "image/png": "[encoded data removed]",
      "text/plain": [
       "<Figure size 432x288 with 1 Axes>"
      ]
     },
     "metadata": {
      "needs_background": "light"
     },
     "output_type": "display_data"
    }
   ],
   "source": [
    "IQR = train['std_dev_malign'].quantile(.75)-train['std_dev_malign'].quantile(0.25)\n",
    "lower_bridges = train['std_dev_malign'].quantile(.25)-(IQR*3)\n",
    "upper_bridges = train['std_dev_malign'].quantile(.75)+(IQR*3)\n",
    "print(IQR)\n",
    "print(lower_bridges)\n",
    "print(upper_bridges)\n",
    "train.loc[train['std_dev_malign']>=441.4443000000001, 'std_dev_malign']=441.4443000000001\n",
    "\n",
    "figure=train.std_dev_malign.hist(bins=100)\n",
    "figure.set_xlabel('std_dev_malign')\n",
    "figure.set_ylabel('A')\n",
    "train['std_dev_malign'].describe()"
   ]
  },
  {
   "cell_type": "code",
   "execution_count": 530,
   "metadata": {},
   "outputs": [
    {
     "data": {
      "text/plain": [
       "<matplotlib.axes._subplots.AxesSubplot at 0x1713340bb20>"
      ]
     },
     "execution_count": 530,
     "metadata": {},
     "output_type": "execute_result"
    },
    {
     "data": {
      "image/png": "[encoded data removed]",
      "text/plain": [
       "<Figure size 432x288 with 1 Axes>"
      ]
     },
     "metadata": {
      "needs_background": "light"
     },
     "output_type": "display_data"
    }
   ],
   "source": [
    "\n",
    "train['exposed_area']=train['exposed_area'].transform(np.log)\n",
    "test['exposed_area']=test['exposed_area'].transform(np.log)\n",
    "sns.boxplot(data=df, x= df['exposed_area'])"
   ]
  },
  {
   "cell_type": "code",
   "execution_count": 531,
   "metadata": {},
   "outputs": [
    {
     "name": "stdout",
     "output_type": "stream",
     "text": [
      "0.5676990821173931\n",
      "12.071265495497308\n",
      "16.04515907031906\n"
     ]
    },
    {
     "data": {
      "text/plain": [
       "count    9146.000000\n",
       "mean       14.053139\n",
       "std         0.395966\n",
       "min        12.868383\n",
       "25%        13.774363\n",
       "50%        14.028246\n",
       "75%        14.342062\n",
       "max        15.420663\n",
       "Name: exposed_area, dtype: float64"
      ]
     },
     "execution_count": 531,
     "metadata": {},
     "output_type": "execute_result"
    },
    {
     "data": {
      "image/png": "[encoded data removed]",
      "text/plain": [
       "<Figure size 432x288 with 1 Axes>"
      ]
     },
     "metadata": {
      "needs_background": "light"
     },
     "output_type": "display_data"
    }
   ],
   "source": [
    "IQR = train['exposed_area'].quantile(.75)-train['exposed_area'].quantile(0.25)\n",
    "lower_bridges = train['exposed_area'].quantile(.25)-(IQR*3)\n",
    "upper_bridges = train['exposed_area'].quantile(.75)+(IQR*3)\n",
    "print(IQR)\n",
    "print(lower_bridges)\n",
    "print(upper_bridges)\n",
    "# train.loc[train['exposed_area']>=3893271.1864999994, 'exposed_area']=3893271.1864999994\n",
    "\n",
    "figure=train.exposed_area.hist(bins=100)\n",
    "figure.set_xlabel('exposed_area')\n",
    "figure.set_ylabel('A')\n",
    "train['exposed_area'].describe()"
   ]
  },
  {
   "cell_type": "code",
   "execution_count": 532,
   "metadata": {},
   "outputs": [
    {
     "data": {
      "text/plain": [
       "<matplotlib.axes._subplots.AxesSubplot at 0x17137ae18e0>"
      ]
     },
     "execution_count": 532,
     "metadata": {},
     "output_type": "execute_result"
    },
    {
     "data": {
      "image/png": "[encoded data removed]",
      "text/plain": [
       "<Figure size 432x288 with 1 Axes>"
      ]
     },
     "metadata": {
      "needs_background": "light"
     },
     "output_type": "display_data"
    }
   ],
   "source": [
    "sns.boxplot(data=train, x= train['malign_penalty'])"
   ]
  },
  {
   "cell_type": "code",
   "execution_count": 533,
   "metadata": {},
   "outputs": [
    {
     "name": "stdout",
     "output_type": "stream",
     "text": [
      "60.0\n",
      "-149.0\n",
      "271.0\n"
     ]
    },
    {
     "data": {
      "text/plain": [
       "count    9146.000000\n",
       "mean       69.545156\n",
       "std        54.561067\n",
       "min         0.000000\n",
       "25%        31.000000\n",
       "50%        54.000000\n",
       "75%        91.000000\n",
       "max       271.000000\n",
       "Name: malign_penalty, dtype: float64"
      ]
     },
     "execution_count": 533,
     "metadata": {},
     "output_type": "execute_result"
    },
    {
     "data": {
      "image/png": "[encoded data removed]",
      "text/plain": [
       "<Figure size 432x288 with 1 Axes>"
      ]
     },
     "metadata": {
      "needs_background": "light"
     },
     "output_type": "display_data"
    }
   ],
   "source": [
    "IQR = train['malign_penalty'].quantile(.75)-train['malign_penalty'].quantile(0.25)\n",
    "lower_bridges = train['malign_penalty'].quantile(.25)-(IQR*3)\n",
    "upper_bridges = train['malign_penalty'].quantile(.75)+(IQR*3)\n",
    "print(IQR)\n",
    "print(lower_bridges)\n",
    "print(upper_bridges)\n",
    "train.loc[train['malign_penalty']>=271, 'malign_penalty']=271\n",
    "\n",
    "figure=train.malign_penalty.hist(bins=100)\n",
    "figure.set_xlabel('malign_penalty')\n",
    "figure.set_ylabel('A')\n",
    "train['malign_penalty'].describe()"
   ]
  },
  {
   "cell_type": "code",
   "execution_count": 534,
   "metadata": {},
   "outputs": [
    {
     "data": {
      "text/plain": [
       "<matplotlib.axes._subplots.AxesSubplot at 0x171379c0b50>"
      ]
     },
     "execution_count": 534,
     "metadata": {},
     "output_type": "execute_result"
    },
    {
     "data": {
      "image/png": "[encoded data removed]",
      "text/plain": [
       "<Figure size 432x288 with 1 Axes>"
      ]
     },
     "metadata": {
      "needs_background": "light"
     },
     "output_type": "display_data"
    }
   ],
   "source": [
    "sns.boxplot(data=train, x= train['damage_size'])"
   ]
  },
  {
   "cell_type": "code",
   "execution_count": 535,
   "metadata": {},
   "outputs": [
    {
     "name": "stdout",
     "output_type": "stream",
     "text": [
      "70.196475\n",
      "-146.57690000000002\n",
      "344.798425\n"
     ]
    },
    {
     "data": {
      "text/plain": [
       "count    9146.000000\n",
       "mean      103.901805\n",
       "std        55.455502\n",
       "min        10.310100\n",
       "25%        64.012525\n",
       "50%        88.458300\n",
       "75%       134.209000\n",
       "max       344.000000\n",
       "Name: damage_size, dtype: float64"
      ]
     },
     "execution_count": 535,
     "metadata": {},
     "output_type": "execute_result"
    },
    {
     "data": {
      "image/png": "[encoded data removed]",
      "text/plain": [
       "<Figure size 432x288 with 1 Axes>"
      ]
     },
     "metadata": {
      "needs_background": "light"
     },
     "output_type": "display_data"
    }
   ],
   "source": [
    "IQR = train['damage_size'].quantile(.75)-train['damage_size'].quantile(0.25)\n",
    "lower_bridges = train['damage_size'].quantile(.25)-(IQR*3)\n",
    "upper_bridges = train['damage_size'].quantile(.75)+(IQR*3)\n",
    "print(IQR)\n",
    "print(lower_bridges)\n",
    "print(upper_bridges)\n",
    "train.loc[train['damage_size']>=344, 'damage_size']=344\n",
    "\n",
    "figure=train.damage_size.hist(bins=100)\n",
    "figure.set_xlabel('damage_size')\n",
    "figure.set_ylabel('A')\n",
    "train['damage_size'].describe()"
   ]
  },
  {
   "cell_type": "code",
   "execution_count": 536,
   "metadata": {},
   "outputs": [
    {
     "data": {
      "text/plain": [
       "<matplotlib.axes._subplots.AxesSubplot at 0x1713951cbe0>"
      ]
     },
     "execution_count": 536,
     "metadata": {},
     "output_type": "execute_result"
    },
    {
     "data": {
      "image/png": "[encoded data removed]",
      "text/plain": [
       "<Figure size 432x288 with 1 Axes>"
      ]
     },
     "metadata": {
      "needs_background": "light"
     },
     "output_type": "display_data"
    }
   ],
   "source": [
    "sns.boxplot(data=train, x= train['malign_ratio'])"
   ]
  },
  {
   "cell_type": "code",
   "execution_count": 537,
   "metadata": {},
   "outputs": [
    {
     "data": {
      "text/plain": [
       "Index(['mass_npea', 'size_npear', 'malign_ratio', 'damage_size',\n",
       "       'exposed_area', 'std_dev_malign', 'err_malign', 'malign_penalty',\n",
       "       'damage_ratio', 'tumor_size'],\n",
       "      dtype='object')"
      ]
     },
     "execution_count": 537,
     "metadata": {},
     "output_type": "execute_result"
    }
   ],
   "source": [
    "# print(train['mass_npea'].shape)\n",
    "train.columns"
   ]
  },
  {
   "cell_type": "code",
   "execution_count": 538,
   "metadata": {},
   "outputs": [],
   "source": [
    "# overfit = []\n",
    "# for i in train.columns:\n",
    "#     counts = train[i].value_counts()\n",
    "#     zeros = counts.iloc[0]\n",
    "#     if zeros / len(train) * 100 > 99.94:\n",
    "#         overfit.append(i)\n",
    "\n",
    "# overfit = list(overfit)\n",
    "# train = train.drop(overfit, axis=1)\n",
    "# print(train.shape)"
   ]
  },
  {
   "cell_type": "code",
   "execution_count": 539,
   "metadata": {},
   "outputs": [
    {
     "data": {
      "text/plain": [
       "<matplotlib.axes._subplots.AxesSubplot at 0x17139552e80>"
      ]
     },
     "execution_count": 539,
     "metadata": {},
     "output_type": "execute_result"
    },
    {
     "data": {
      "image/png": "[encoded data removed]",
      "text/plain": [
       "<Figure size 432x288 with 2 Axes>"
      ]
     },
     "metadata": {
      "needs_background": "light"
     },
     "output_type": "display_data"
    }
   ],
   "source": [
    "corelation = train.corr()\n",
    "\n",
    "sns.heatmap(corelation, xticklabels=corelation.columns, yticklabels=corelation.columns, annot=True) "
   ]
  },
  {
   "cell_type": "code",
   "execution_count": null,
   "metadata": {},
   "outputs": [],
   "source": []
  },
  {
   "cell_type": "code",
   "execution_count": 540,
   "metadata": {},
   "outputs": [
    {
     "data": {
      "text/html": [
       "<div>\n",
       "<style scoped>\n",
       "    .dataframe tbody tr th:only-of-type {\n",
       "        vertical-align: middle;\n",
       "    }\n",
       "\n",
       "    .dataframe tbody tr th {\n",
       "        vertical-align: top;\n",
       "    }\n",
       "\n",
       "    .dataframe thead th {\n",
       "        text-align: right;\n",
       "    }\n",
       "</style>\n",
       "<table border=\"1\" class=\"dataframe\">\n",
       "  <thead>\n",
       "    <tr style=\"text-align: right;\">\n",
       "      <th></th>\n",
       "      <th>mass_npea</th>\n",
       "      <th>size_npear</th>\n",
       "      <th>malign_ratio</th>\n",
       "      <th>damage_size</th>\n",
       "      <th>exposed_area</th>\n",
       "      <th>std_dev_malign</th>\n",
       "      <th>err_malign</th>\n",
       "      <th>malign_penalty</th>\n",
       "      <th>damage_ratio</th>\n",
       "      <th>tumor_size</th>\n",
       "    </tr>\n",
       "  </thead>\n",
       "  <tbody>\n",
       "    <tr>\n",
       "      <th>0</th>\n",
       "      <td>6930.90</td>\n",
       "      <td>2919.02</td>\n",
       "      <td>0.42116</td>\n",
       "      <td>51.8298</td>\n",
       "      <td>13.804277</td>\n",
       "      <td>109.4870</td>\n",
       "      <td>2758.76</td>\n",
       "      <td>72</td>\n",
       "      <td>39.3620</td>\n",
       "      <td>14.103</td>\n",
       "    </tr>\n",
       "    <tr>\n",
       "      <th>1</th>\n",
       "      <td>15635.70</td>\n",
       "      <td>4879.36</td>\n",
       "      <td>0.31206</td>\n",
       "      <td>223.5500</td>\n",
       "      <td>14.537452</td>\n",
       "      <td>248.8810</td>\n",
       "      <td>5952.53</td>\n",
       "      <td>240</td>\n",
       "      <td>22.0253</td>\n",
       "      <td>2.648</td>\n",
       "    </tr>\n",
       "    <tr>\n",
       "      <th>2</th>\n",
       "      <td>10376.20</td>\n",
       "      <td>2613.88</td>\n",
       "      <td>0.25191</td>\n",
       "      <td>127.3370</td>\n",
       "      <td>14.176450</td>\n",
       "      <td>160.0930</td>\n",
       "      <td>4635.26</td>\n",
       "      <td>73</td>\n",
       "      <td>29.9963</td>\n",
       "      <td>1.688</td>\n",
       "    </tr>\n",
       "    <tr>\n",
       "      <th>3</th>\n",
       "      <td>13093.80</td>\n",
       "      <td>4510.06</td>\n",
       "      <td>0.34444</td>\n",
       "      <td>155.4400</td>\n",
       "      <td>14.410049</td>\n",
       "      <td>173.0150</td>\n",
       "      <td>5273.87</td>\n",
       "      <td>32</td>\n",
       "      <td>28.1354</td>\n",
       "      <td>3.796</td>\n",
       "    </tr>\n",
       "    <tr>\n",
       "      <th>4</th>\n",
       "      <td>7545.21</td>\n",
       "      <td>2882.36</td>\n",
       "      <td>0.38201</td>\n",
       "      <td>85.1237</td>\n",
       "      <td>13.858491</td>\n",
       "      <td>124.4140</td>\n",
       "      <td>3263.35</td>\n",
       "      <td>57</td>\n",
       "      <td>35.0200</td>\n",
       "      <td>18.023</td>\n",
       "    </tr>\n",
       "    <tr>\n",
       "      <th>5</th>\n",
       "      <td>6851.09</td>\n",
       "      <td>2195.18</td>\n",
       "      <td>0.32041</td>\n",
       "      <td>72.8283</td>\n",
       "      <td>13.762581</td>\n",
       "      <td>97.1881</td>\n",
       "      <td>3688.57</td>\n",
       "      <td>40</td>\n",
       "      <td>36.3481</td>\n",
       "      <td>1.709</td>\n",
       "    </tr>\n",
       "    <tr>\n",
       "      <th>6</th>\n",
       "      <td>7069.24</td>\n",
       "      <td>1886.09</td>\n",
       "      <td>0.26680</td>\n",
       "      <td>58.2686</td>\n",
       "      <td>13.839992</td>\n",
       "      <td>76.9447</td>\n",
       "      <td>3168.44</td>\n",
       "      <td>22</td>\n",
       "      <td>39.9961</td>\n",
       "      <td>9.937</td>\n",
       "    </tr>\n",
       "    <tr>\n",
       "      <th>7</th>\n",
       "      <td>16446.10</td>\n",
       "      <td>5115.45</td>\n",
       "      <td>0.31104</td>\n",
       "      <td>204.9740</td>\n",
       "      <td>14.589018</td>\n",
       "      <td>265.8810</td>\n",
       "      <td>6425.91</td>\n",
       "      <td>242</td>\n",
       "      <td>22.9533</td>\n",
       "      <td>2.510</td>\n",
       "    </tr>\n",
       "    <tr>\n",
       "      <th>8</th>\n",
       "      <td>6814.73</td>\n",
       "      <td>2043.78</td>\n",
       "      <td>0.29990</td>\n",
       "      <td>90.0889</td>\n",
       "      <td>13.781937</td>\n",
       "      <td>99.6286</td>\n",
       "      <td>3428.54</td>\n",
       "      <td>27</td>\n",
       "      <td>37.1642</td>\n",
       "      <td>12.568</td>\n",
       "    </tr>\n",
       "    <tr>\n",
       "      <th>9</th>\n",
       "      <td>5049.75</td>\n",
       "      <td>949.82</td>\n",
       "      <td>0.18809</td>\n",
       "      <td>41.2957</td>\n",
       "      <td>13.445349</td>\n",
       "      <td>70.4142</td>\n",
       "      <td>2734.59</td>\n",
       "      <td>27</td>\n",
       "      <td>41.1366</td>\n",
       "      <td>13.428</td>\n",
       "    </tr>\n",
       "    <tr>\n",
       "      <th>10</th>\n",
       "      <td>7786.91</td>\n",
       "      <td>2288.10</td>\n",
       "      <td>0.29383</td>\n",
       "      <td>72.8165</td>\n",
       "      <td>13.891131</td>\n",
       "      <td>117.3210</td>\n",
       "      <td>3353.90</td>\n",
       "      <td>63</td>\n",
       "      <td>37.7183</td>\n",
       "      <td>14.597</td>\n",
       "    </tr>\n",
       "    <tr>\n",
       "      <th>11</th>\n",
       "      <td>12730.70</td>\n",
       "      <td>4139.31</td>\n",
       "      <td>0.32514</td>\n",
       "      <td>152.3320</td>\n",
       "      <td>14.393020</td>\n",
       "      <td>170.4250</td>\n",
       "      <td>5202.67</td>\n",
       "      <td>29</td>\n",
       "      <td>27.9358</td>\n",
       "      <td>3.584</td>\n",
       "    </tr>\n",
       "    <tr>\n",
       "      <th>12</th>\n",
       "      <td>12433.60</td>\n",
       "      <td>3151.09</td>\n",
       "      <td>0.25343</td>\n",
       "      <td>112.3810</td>\n",
       "      <td>14.366224</td>\n",
       "      <td>165.4300</td>\n",
       "      <td>4718.09</td>\n",
       "      <td>40</td>\n",
       "      <td>29.0498</td>\n",
       "      <td>17.823</td>\n",
       "    </tr>\n",
       "    <tr>\n",
       "      <th>13</th>\n",
       "      <td>9205.53</td>\n",
       "      <td>2649.05</td>\n",
       "      <td>0.28776</td>\n",
       "      <td>85.2738</td>\n",
       "      <td>14.088822</td>\n",
       "      <td>133.5930</td>\n",
       "      <td>3997.23</td>\n",
       "      <td>4</td>\n",
       "      <td>36.2856</td>\n",
       "      <td>2.110</td>\n",
       "    </tr>\n",
       "    <tr>\n",
       "      <th>14</th>\n",
       "      <td>9037.90</td>\n",
       "      <td>2387.35</td>\n",
       "      <td>0.26414</td>\n",
       "      <td>85.9327</td>\n",
       "      <td>14.015307</td>\n",
       "      <td>112.0590</td>\n",
       "      <td>3616.39</td>\n",
       "      <td>9</td>\n",
       "      <td>35.6783</td>\n",
       "      <td>15.329</td>\n",
       "    </tr>\n",
       "    <tr>\n",
       "      <th>15</th>\n",
       "      <td>7056.91</td>\n",
       "      <td>3216.19</td>\n",
       "      <td>0.45575</td>\n",
       "      <td>46.1277</td>\n",
       "      <td>13.835816</td>\n",
       "      <td>115.0100</td>\n",
       "      <td>3482.17</td>\n",
       "      <td>34</td>\n",
       "      <td>41.6588</td>\n",
       "      <td>13.201</td>\n",
       "    </tr>\n",
       "    <tr>\n",
       "      <th>16</th>\n",
       "      <td>7036.05</td>\n",
       "      <td>1705.42</td>\n",
       "      <td>0.24238</td>\n",
       "      <td>75.8096</td>\n",
       "      <td>13.767764</td>\n",
       "      <td>91.4481</td>\n",
       "      <td>3346.91</td>\n",
       "      <td>31</td>\n",
       "      <td>33.0085</td>\n",
       "      <td>7.846</td>\n",
       "    </tr>\n",
       "    <tr>\n",
       "      <th>17</th>\n",
       "      <td>8039.25</td>\n",
       "      <td>2297.18</td>\n",
       "      <td>0.28574</td>\n",
       "      <td>87.4432</td>\n",
       "      <td>13.920146</td>\n",
       "      <td>113.5400</td>\n",
       "      <td>3103.93</td>\n",
       "      <td>21</td>\n",
       "      <td>37.5014</td>\n",
       "      <td>0.577</td>\n",
       "    </tr>\n",
       "    <tr>\n",
       "      <th>18</th>\n",
       "      <td>5267.57</td>\n",
       "      <td>1318.31</td>\n",
       "      <td>0.25026</td>\n",
       "      <td>48.7657</td>\n",
       "      <td>13.454251</td>\n",
       "      <td>80.8711</td>\n",
       "      <td>3318.90</td>\n",
       "      <td>17</td>\n",
       "      <td>41.3319</td>\n",
       "      <td>1.866</td>\n",
       "    </tr>\n",
       "    <tr>\n",
       "      <th>19</th>\n",
       "      <td>7239.39</td>\n",
       "      <td>2107.87</td>\n",
       "      <td>0.29116</td>\n",
       "      <td>75.8913</td>\n",
       "      <td>13.802603</td>\n",
       "      <td>114.9980</td>\n",
       "      <td>3070.11</td>\n",
       "      <td>80</td>\n",
       "      <td>39.4591</td>\n",
       "      <td>0.701</td>\n",
       "    </tr>\n",
       "  </tbody>\n",
       "</table>\n",
       "</div>"
      ],
      "text/plain": [
       "    mass_npea  size_npear  malign_ratio  damage_size  exposed_area  \\\n",
       "0     6930.90     2919.02       0.42116      51.8298     13.804277   \n",
       "1    15635.70     4879.36       0.31206     223.5500     14.537452   \n",
       "2    10376.20     2613.88       0.25191     127.3370     14.176450   \n",
       "3    13093.80     4510.06       0.34444     155.4400     14.410049   \n",
       "4     7545.21     2882.36       0.38201      85.1237     13.858491   \n",
       "5     6851.09     2195.18       0.32041      72.8283     13.762581   \n",
       "6     7069.24     1886.09       0.26680      58.2686     13.839992   \n",
       "7    16446.10     5115.45       0.31104     204.9740     14.589018   \n",
       "8     6814.73     2043.78       0.29990      90.0889     13.781937   \n",
       "9     5049.75      949.82       0.18809      41.2957     13.445349   \n",
       "10    7786.91     2288.10       0.29383      72.8165     13.891131   \n",
       "11   12730.70     4139.31       0.32514     152.3320     14.393020   \n",
       "12   12433.60     3151.09       0.25343     112.3810     14.366224   \n",
       "13    9205.53     2649.05       0.28776      85.2738     14.088822   \n",
       "14    9037.90     2387.35       0.26414      85.9327     14.015307   \n",
       "15    7056.91     3216.19       0.45575      46.1277     13.835816   \n",
       "16    7036.05     1705.42       0.24238      75.8096     13.767764   \n",
       "17    8039.25     2297.18       0.28574      87.4432     13.920146   \n",
       "18    5267.57     1318.31       0.25026      48.7657     13.454251   \n",
       "19    7239.39     2107.87       0.29116      75.8913     13.802603   \n",
       "\n",
       "    std_dev_malign  err_malign  malign_penalty  damage_ratio  tumor_size  \n",
       "0         109.4870     2758.76              72       39.3620      14.103  \n",
       "1         248.8810     5952.53             240       22.0253       2.648  \n",
       "2         160.0930     4635.26              73       29.9963       1.688  \n",
       "3         173.0150     5273.87              32       28.1354       3.796  \n",
       "4         124.4140     3263.35              57       35.0200      18.023  \n",
       "5          97.1881     3688.57              40       36.3481       1.709  \n",
       "6          76.9447     3168.44              22       39.9961       9.937  \n",
       "7         265.8810     6425.91             242       22.9533       2.510  \n",
       "8          99.6286     3428.54              27       37.1642      12.568  \n",
       "9          70.4142     2734.59              27       41.1366      13.428  \n",
       "10        117.3210     3353.90              63       37.7183      14.597  \n",
       "11        170.4250     5202.67              29       27.9358       3.584  \n",
       "12        165.4300     4718.09              40       29.0498      17.823  \n",
       "13        133.5930     3997.23               4       36.2856       2.110  \n",
       "14        112.0590     3616.39               9       35.6783      15.329  \n",
       "15        115.0100     3482.17              34       41.6588      13.201  \n",
       "16         91.4481     3346.91              31       33.0085       7.846  \n",
       "17        113.5400     3103.93              21       37.5014       0.577  \n",
       "18         80.8711     3318.90              17       41.3319       1.866  \n",
       "19        114.9980     3070.11              80       39.4591       0.701  "
      ]
     },
     "execution_count": 540,
     "metadata": {},
     "output_type": "execute_result"
    }
   ],
   "source": [
    "train.head(20)"
   ]
  },
  {
   "cell_type": "code",
   "execution_count": 541,
   "metadata": {},
   "outputs": [
    {
     "data": {
      "text/html": [
       "<div>\n",
       "<style scoped>\n",
       "    .dataframe tbody tr th:only-of-type {\n",
       "        vertical-align: middle;\n",
       "    }\n",
       "\n",
       "    .dataframe tbody tr th {\n",
       "        vertical-align: top;\n",
       "    }\n",
       "\n",
       "    .dataframe thead th {\n",
       "        text-align: right;\n",
       "    }\n",
       "</style>\n",
       "<table border=\"1\" class=\"dataframe\">\n",
       "  <thead>\n",
       "    <tr style=\"text-align: right;\">\n",
       "      <th></th>\n",
       "      <th>mass_npea</th>\n",
       "      <th>size_npear</th>\n",
       "      <th>malign_ratio</th>\n",
       "      <th>damage_size</th>\n",
       "      <th>exposed_area</th>\n",
       "      <th>std_dev_malign</th>\n",
       "      <th>err_malign</th>\n",
       "      <th>malign_penalty</th>\n",
       "      <th>damage_ratio</th>\n",
       "      <th>tumor_size</th>\n",
       "    </tr>\n",
       "  </thead>\n",
       "  <tbody>\n",
       "    <tr>\n",
       "      <th>count</th>\n",
       "      <td>9146.000000</td>\n",
       "      <td>9146.000000</td>\n",
       "      <td>9146.000000</td>\n",
       "      <td>9146.000000</td>\n",
       "      <td>9146.000000</td>\n",
       "      <td>9146.000000</td>\n",
       "      <td>9146.000000</td>\n",
       "      <td>9146.000000</td>\n",
       "      <td>9146.000000</td>\n",
       "      <td>9146.000000</td>\n",
       "    </tr>\n",
       "    <tr>\n",
       "      <th>mean</th>\n",
       "      <td>9900.892133</td>\n",
       "      <td>3031.004582</td>\n",
       "      <td>0.303083</td>\n",
       "      <td>103.901805</td>\n",
       "      <td>14.053139</td>\n",
       "      <td>146.286978</td>\n",
       "      <td>3944.820995</td>\n",
       "      <td>69.545156</td>\n",
       "      <td>34.461652</td>\n",
       "      <td>7.723348</td>\n",
       "    </tr>\n",
       "    <tr>\n",
       "      <th>std</th>\n",
       "      <td>4049.686357</td>\n",
       "      <td>1453.030850</td>\n",
       "      <td>0.062533</td>\n",
       "      <td>55.455502</td>\n",
       "      <td>0.395966</td>\n",
       "      <td>70.432841</td>\n",
       "      <td>1165.739064</td>\n",
       "      <td>54.561067</td>\n",
       "      <td>5.972808</td>\n",
       "      <td>6.086852</td>\n",
       "    </tr>\n",
       "    <tr>\n",
       "      <th>min</th>\n",
       "      <td>2864.760000</td>\n",
       "      <td>510.530000</td>\n",
       "      <td>0.114820</td>\n",
       "      <td>10.310100</td>\n",
       "      <td>12.868383</td>\n",
       "      <td>31.970400</td>\n",
       "      <td>1089.190000</td>\n",
       "      <td>0.000000</td>\n",
       "      <td>15.228000</td>\n",
       "      <td>0.000000</td>\n",
       "    </tr>\n",
       "    <tr>\n",
       "      <th>25%</th>\n",
       "      <td>6988.420000</td>\n",
       "      <td>1983.657500</td>\n",
       "      <td>0.259053</td>\n",
       "      <td>64.012525</td>\n",
       "      <td>13.774363</td>\n",
       "      <td>95.853900</td>\n",
       "      <td>3177.682500</td>\n",
       "      <td>31.000000</td>\n",
       "      <td>30.290225</td>\n",
       "      <td>2.320000</td>\n",
       "    </tr>\n",
       "    <tr>\n",
       "      <th>50%</th>\n",
       "      <td>8895.965000</td>\n",
       "      <td>2684.330000</td>\n",
       "      <td>0.301055</td>\n",
       "      <td>88.458300</td>\n",
       "      <td>14.028246</td>\n",
       "      <td>126.138500</td>\n",
       "      <td>3846.320000</td>\n",
       "      <td>54.000000</td>\n",
       "      <td>35.245750</td>\n",
       "      <td>5.060500</td>\n",
       "    </tr>\n",
       "    <tr>\n",
       "      <th>75%</th>\n",
       "      <td>12119.950000</td>\n",
       "      <td>3830.745000</td>\n",
       "      <td>0.343002</td>\n",
       "      <td>134.209000</td>\n",
       "      <td>14.342062</td>\n",
       "      <td>182.251500</td>\n",
       "      <td>4664.577500</td>\n",
       "      <td>91.000000</td>\n",
       "      <td>38.806075</td>\n",
       "      <td>13.336000</td>\n",
       "    </tr>\n",
       "    <tr>\n",
       "      <th>max</th>\n",
       "      <td>27514.530000</td>\n",
       "      <td>9372.000000</td>\n",
       "      <td>0.525300</td>\n",
       "      <td>344.000000</td>\n",
       "      <td>15.420663</td>\n",
       "      <td>441.444300</td>\n",
       "      <td>9125.260000</td>\n",
       "      <td>271.000000</td>\n",
       "      <td>46.546400</td>\n",
       "      <td>20.999000</td>\n",
       "    </tr>\n",
       "  </tbody>\n",
       "</table>\n",
       "</div>"
      ],
      "text/plain": [
       "          mass_npea   size_npear  malign_ratio  damage_size  exposed_area  \\\n",
       "count   9146.000000  9146.000000   9146.000000  9146.000000   9146.000000   \n",
       "mean    9900.892133  3031.004582      0.303083   103.901805     14.053139   \n",
       "std     4049.686357  1453.030850      0.062533    55.455502      0.395966   \n",
       "min     2864.760000   510.530000      0.114820    10.310100     12.868383   \n",
       "25%     6988.420000  1983.657500      0.259053    64.012525     13.774363   \n",
       "50%     8895.965000  2684.330000      0.301055    88.458300     14.028246   \n",
       "75%    12119.950000  3830.745000      0.343002   134.209000     14.342062   \n",
       "max    27514.530000  9372.000000      0.525300   344.000000     15.420663   \n",
       "\n",
       "       std_dev_malign   err_malign  malign_penalty  damage_ratio   tumor_size  \n",
       "count     9146.000000  9146.000000     9146.000000   9146.000000  9146.000000  \n",
       "mean       146.286978  3944.820995       69.545156     34.461652     7.723348  \n",
       "std         70.432841  1165.739064       54.561067      5.972808     6.086852  \n",
       "min         31.970400  1089.190000        0.000000     15.228000     0.000000  \n",
       "25%         95.853900  3177.682500       31.000000     30.290225     2.320000  \n",
       "50%        126.138500  3846.320000       54.000000     35.245750     5.060500  \n",
       "75%        182.251500  4664.577500       91.000000     38.806075    13.336000  \n",
       "max        441.444300  9125.260000      271.000000     46.546400    20.999000  "
      ]
     },
     "execution_count": 541,
     "metadata": {},
     "output_type": "execute_result"
    }
   ],
   "source": [
    "train.describe()"
   ]
  },
  {
   "cell_type": "code",
   "execution_count": 542,
   "metadata": {},
   "outputs": [],
   "source": [
    "combine= [train, test]\n",
    "for dataset in combine:\n",
    "    dataset['mass_npea_band']=pd.qcut(dataset['mass_npea'],70)\n",
    "    dataset['size_npear_band']=pd.qcut(dataset['size_npear'],70)\n",
    "    dataset['malign_ratio_band']=pd.qcut(dataset['malign_ratio'],70)\n",
    "    dataset['damage_size_band']=pd.qcut(dataset['damage_size'],70)\n",
    "    dataset['exposed_area_band']=pd.qcut(dataset['exposed_area'],70)\n",
    "    dataset['std_dev_malign_band']=pd.qcut(dataset['std_dev_malign'],70)\n",
    "    dataset['err_malign_band']=pd.qcut(dataset['err_malign'],70)\n",
    "#     dataset['malign_penalty_band']=pd.qcut(dataset['malign_penalty'],65)\n",
    "    dataset['damage_ratio_band']=pd.qcut(dataset['damage_ratio'],70)\n",
    "\n",
    "    \n",
    "# print(train[['mass_npea_band','tumor_size']].groupby(['mass_npea_band'], as_index = False).mean().sort_values(by=\"tumor_size\", ascending=True))\n",
    "\n",
    "\n",
    "from sklearn.preprocessing import LabelEncoder\n",
    "label= LabelEncoder()\n",
    "for dataset in combine:\n",
    "    dataset['mass_npea_band']=label.fit_transform(dataset['mass_npea_band'])\n",
    "    dataset['size_npear_band']=label.fit_transform(dataset['size_npear_band'])\n",
    "    dataset['malign_ratio_band']=label.fit_transform(dataset['malign_ratio_band'])\n",
    "    dataset['damage_size_band']=label.fit_transform(dataset['damage_size_band'])\n",
    "    dataset['exposed_area_band']=label.fit_transform(dataset['exposed_area_band'])\n",
    "    dataset['std_dev_malign_band']=label.fit_transform(dataset['std_dev_malign_band'])\n",
    "    dataset['err_malign_band']=label.fit_transform(dataset['err_malign_band'])\n",
    "#     dataset['malign_penalty_band']=label.fit_transform(dataset['malign_penalty_band'])\n",
    "    dataset['damage_ratio_band']=label.fit_transform(dataset['damage_ratio_band'])\n",
    "    \n",
    "    \n",
    "# for dataset in combine:\n",
    "#      dataset.loc[(dataset['mass_npea']>7.775) & (dataset['mass_npea']<=8.662), 'mass_npea']=0\n",
    "#     dataset.loc[dataset['mass_npea']<=7.775, 'mass_npea'] =1\n",
    "#     dataset.loc[(dataset['mass_npea']>8.662) & (dataset['mass_npea']<=14.454), 'mass_npea']=2\n",
    "#     dataset.loc[(dataset['mass_npea']>26.0) & (dataset['mass_npea']<=52.369), 'Fare']=3\n",
    "#     dataset.loc[(dataset['Fare']>14.454) & (dataset['Fare']<=26.0), 'Fare']=4\n",
    "#     dataset.loc[(dataset['Fare']>52.369) & (dataset['Fare']<=512.329), 'Fare']=5\n",
    "#     dataset['Fare'] = dataset['Fare'].astype(int)"
   ]
  },
  {
   "cell_type": "code",
   "execution_count": 543,
   "metadata": {},
   "outputs": [],
   "source": [
    "train = train.drop([\"mass_npea\",'size_npear', 'malign_ratio', 'damage_size',\n",
    "       'exposed_area', 'std_dev_malign', 'err_malign', 'damage_ratio'], axis=1)\n",
    "test = test.drop([\"mass_npea\", 'size_npear', 'malign_ratio', 'damage_size',\n",
    "       'exposed_area', 'std_dev_malign', 'err_malign', 'damage_ratio'], axis=1)\n"
   ]
  },
  {
   "cell_type": "code",
   "execution_count": 544,
   "metadata": {},
   "outputs": [
    {
     "data": {
      "text/html": [
       "<div>\n",
       "<style scoped>\n",
       "    .dataframe tbody tr th:only-of-type {\n",
       "        vertical-align: middle;\n",
       "    }\n",
       "\n",
       "    .dataframe tbody tr th {\n",
       "        vertical-align: top;\n",
       "    }\n",
       "\n",
       "    .dataframe thead th {\n",
       "        text-align: right;\n",
       "    }\n",
       "</style>\n",
       "<table border=\"1\" class=\"dataframe\">\n",
       "  <thead>\n",
       "    <tr style=\"text-align: right;\">\n",
       "      <th></th>\n",
       "      <th>malign_penalty</th>\n",
       "      <th>tumor_size</th>\n",
       "      <th>mass_npea_band</th>\n",
       "      <th>size_npear_band</th>\n",
       "      <th>malign_ratio_band</th>\n",
       "      <th>damage_size_band</th>\n",
       "      <th>exposed_area_band</th>\n",
       "      <th>std_dev_malign_band</th>\n",
       "      <th>err_malign_band</th>\n",
       "      <th>damage_ratio_band</th>\n",
       "    </tr>\n",
       "  </thead>\n",
       "  <tbody>\n",
       "    <tr>\n",
       "      <th>0</th>\n",
       "      <td>72</td>\n",
       "      <td>14.103</td>\n",
       "      <td>17</td>\n",
       "      <td>39</td>\n",
       "      <td>67</td>\n",
       "      <td>8</td>\n",
       "      <td>19</td>\n",
       "      <td>25</td>\n",
       "      <td>9</td>\n",
       "      <td>55</td>\n",
       "    </tr>\n",
       "    <tr>\n",
       "      <th>1</th>\n",
       "      <td>240</td>\n",
       "      <td>2.648</td>\n",
       "      <td>63</td>\n",
       "      <td>61</td>\n",
       "      <td>39</td>\n",
       "      <td>67</td>\n",
       "      <td>60</td>\n",
       "      <td>62</td>\n",
       "      <td>67</td>\n",
       "      <td>2</td>\n",
       "    </tr>\n",
       "    <tr>\n",
       "      <th>2</th>\n",
       "      <td>73</td>\n",
       "      <td>1.688</td>\n",
       "      <td>45</td>\n",
       "      <td>33</td>\n",
       "      <td>14</td>\n",
       "      <td>50</td>\n",
       "      <td>44</td>\n",
       "      <td>46</td>\n",
       "      <td>51</td>\n",
       "      <td>16</td>\n",
       "    </tr>\n",
       "    <tr>\n",
       "      <th>3</th>\n",
       "      <td>32</td>\n",
       "      <td>3.796</td>\n",
       "      <td>55</td>\n",
       "      <td>58</td>\n",
       "      <td>53</td>\n",
       "      <td>56</td>\n",
       "      <td>55</td>\n",
       "      <td>50</td>\n",
       "      <td>61</td>\n",
       "      <td>11</td>\n",
       "    </tr>\n",
       "    <tr>\n",
       "      <th>4</th>\n",
       "      <td>57</td>\n",
       "      <td>18.023</td>\n",
       "      <td>22</td>\n",
       "      <td>39</td>\n",
       "      <td>62</td>\n",
       "      <td>33</td>\n",
       "      <td>22</td>\n",
       "      <td>34</td>\n",
       "      <td>20</td>\n",
       "      <td>33</td>\n",
       "    </tr>\n",
       "  </tbody>\n",
       "</table>\n",
       "</div>"
      ],
      "text/plain": [
       "   malign_penalty  tumor_size  mass_npea_band  size_npear_band  \\\n",
       "0              72      14.103              17               39   \n",
       "1             240       2.648              63               61   \n",
       "2              73       1.688              45               33   \n",
       "3              32       3.796              55               58   \n",
       "4              57      18.023              22               39   \n",
       "\n",
       "   malign_ratio_band  damage_size_band  exposed_area_band  \\\n",
       "0                 67                 8                 19   \n",
       "1                 39                67                 60   \n",
       "2                 14                50                 44   \n",
       "3                 53                56                 55   \n",
       "4                 62                33                 22   \n",
       "\n",
       "   std_dev_malign_band  err_malign_band  damage_ratio_band  \n",
       "0                   25                9                 55  \n",
       "1                   62               67                  2  \n",
       "2                   46               51                 16  \n",
       "3                   50               61                 11  \n",
       "4                   34               20                 33  "
      ]
     },
     "execution_count": 544,
     "metadata": {},
     "output_type": "execute_result"
    }
   ],
   "source": [
    "train.head()"
   ]
  },
  {
   "cell_type": "code",
   "execution_count": 545,
   "metadata": {},
   "outputs": [],
   "source": [
    "x = train.drop(\"tumor_size\", axis=1)\n",
    "y = train[\"tumor_size\"]\n",
    "\n",
    "from sklearn.metrics import mean_squared_error\n",
    "from sklearn.model_selection import train_test_split\n",
    "\n",
    "train_x, val_x, train_y, val_y =train_test_split(x, y, random_state=1)\n",
    "\n",
    "\n"
   ]
  },
  {
   "cell_type": "code",
   "execution_count": 546,
   "metadata": {},
   "outputs": [],
   "source": [
    "# # from sklearn.linear_model import LogisticRegression\n",
    "# # from sklearn import preprocessing\n",
    "\n",
    "# # lab_enc = preprocessing.LabelEncoder()\n",
    "# # y_encoded = lab_enc.fit_transform(y)\n",
    "\n",
    "# from sklearn.linear_model import LinearRegression\n",
    "# reg=LinearRegression()\n",
    "# reg = reg.fit(x, y)\n",
    "# predict_LR=reg.predict(test)\n",
    "\n",
    "# r2_score=reg.score(x,y)\n",
    "# print(r2_score)\n",
    "\n",
    "\n"
   ]
  },
  {
   "cell_type": "code",
   "execution_count": 547,
   "metadata": {},
   "outputs": [
    {
     "name": "stdout",
     "output_type": "stream",
     "text": [
      "0.9429351418473733\n"
     ]
    }
   ],
   "source": [
    "from sklearn.ensemble import RandomForestRegressor\n",
    "\n",
    "rf = RandomForestRegressor(n_estimators=350)\n",
    "rf.fit(x,y)\n",
    "predictions=rf.predict(test)\n",
    "print(rf.score(x,y))"
   ]
  },
  {
   "cell_type": "code",
   "execution_count": 548,
   "metadata": {},
   "outputs": [],
   "source": [
    "# from sklearn.neighbors import KNeighborsRegressor\n",
    "\n",
    "# knn=KNeighborsRegressor(n_neighbors=3)\n",
    "# knn.fit(x, y)\n",
    "# predictions =knn.predict(test)\n",
    "# print(knn.score(x,y))\n"
   ]
  },
  {
   "cell_type": "code",
   "execution_count": 549,
   "metadata": {},
   "outputs": [],
   "source": [
    "# from sklearn.svm import SVC\n",
    "\n",
    "# from sklearn import preprocessing\n",
    "\n",
    "# lab_enc = preprocessing.LabelEncoder()\n",
    "# y_encoded = lab_enc.fit_transform(y)\n",
    "\n",
    "# svc =SVC()\n",
    "# svc.fit(x, y_encoded)\n",
    "# predictions=svc.predict(test)\n",
    "# print(svc.score(x,y_encoded))"
   ]
  },
  {
   "cell_type": "code",
   "execution_count": 550,
   "metadata": {},
   "outputs": [],
   "source": [
    "# from sklearn.tree import DecisionTreeeRegressor\n",
    "\n",
    "# dt = DecisionTreeRegressor()\n",
    "# dt.fit(x, y)\n",
    "# predictions = dt.predict(test)\n",
    "# print(dt.score(x, y))"
   ]
  },
  {
   "cell_type": "code",
   "execution_count": 551,
   "metadata": {},
   "outputs": [],
   "source": [
    "# from xgboost import XGBRegressor\n",
    "\n",
    "# model_xgb = XGBRegressor(n_estimator=1000)\n",
    "# model_xgb.fit(train_x, train_y, early_stopping_rounds=5, eval_set=[(val_x, val_y)], verbose=False)\n",
    "# pred_val=model_xgb.predict(val_x)\n",
    "# predictions=model_xgb.predict(test)\n",
    "\n",
    "# acc_xgb =round (model_xgb.score(x,y)*100, 2)\n",
    "# print('Score :',  acc_xgb)\n",
    "# mse= mean_squared_error(pred_val, val_y)\n",
    "# print('Mean Squared Error :', mse)\n",
    "# print(model_xgb.score(x,y))"
   ]
  },
  {
   "cell_type": "code",
   "execution_count": 552,
   "metadata": {},
   "outputs": [
    {
     "name": "stdout",
     "output_type": "stream",
     "text": [
      "Your submission was successfullly saved\n"
     ]
    }
   ],
   "source": [
    "\n",
    "output=pd.DataFrame({'tumor_size':predictions})\n",
    "output.to_csv('my_submission.csv', index=False)\n",
    "print(\"Your submission was successfullly saved\")\n"
   ]
  },
  {
   "cell_type": "code",
   "execution_count": 553,
   "metadata": {},
   "outputs": [
    {
     "data": {
      "text/html": [
       "<div>\n",
       "<style scoped>\n",
       "    .dataframe tbody tr th:only-of-type {\n",
       "        vertical-align: middle;\n",
       "    }\n",
       "\n",
       "    .dataframe tbody tr th {\n",
       "        vertical-align: top;\n",
       "    }\n",
       "\n",
       "    .dataframe thead th {\n",
       "        text-align: right;\n",
       "    }\n",
       "</style>\n",
       "<table border=\"1\" class=\"dataframe\">\n",
       "  <thead>\n",
       "    <tr style=\"text-align: right;\">\n",
       "      <th></th>\n",
       "      <th>tumor_size</th>\n",
       "    </tr>\n",
       "  </thead>\n",
       "  <tbody>\n",
       "    <tr>\n",
       "      <th>0</th>\n",
       "      <td>6.187746</td>\n",
       "    </tr>\n",
       "    <tr>\n",
       "      <th>1</th>\n",
       "      <td>10.161271</td>\n",
       "    </tr>\n",
       "    <tr>\n",
       "      <th>2</th>\n",
       "      <td>2.792249</td>\n",
       "    </tr>\n",
       "    <tr>\n",
       "      <th>3</th>\n",
       "      <td>10.073031</td>\n",
       "    </tr>\n",
       "    <tr>\n",
       "      <th>4</th>\n",
       "      <td>11.854423</td>\n",
       "    </tr>\n",
       "    <tr>\n",
       "      <th>...</th>\n",
       "      <td>...</td>\n",
       "    </tr>\n",
       "    <tr>\n",
       "      <th>36579</th>\n",
       "      <td>2.788829</td>\n",
       "    </tr>\n",
       "    <tr>\n",
       "      <th>36580</th>\n",
       "      <td>15.612946</td>\n",
       "    </tr>\n",
       "    <tr>\n",
       "      <th>36581</th>\n",
       "      <td>3.659571</td>\n",
       "    </tr>\n",
       "    <tr>\n",
       "      <th>36582</th>\n",
       "      <td>10.521323</td>\n",
       "    </tr>\n",
       "    <tr>\n",
       "      <th>36583</th>\n",
       "      <td>3.097497</td>\n",
       "    </tr>\n",
       "  </tbody>\n",
       "</table>\n",
       "<p>36584 rows × 1 columns</p>\n",
       "</div>"
      ],
      "text/plain": [
       "       tumor_size\n",
       "0        6.187746\n",
       "1       10.161271\n",
       "2        2.792249\n",
       "3       10.073031\n",
       "4       11.854423\n",
       "...           ...\n",
       "36579    2.788829\n",
       "36580   15.612946\n",
       "36581    3.659571\n",
       "36582   10.521323\n",
       "36583    3.097497\n",
       "\n",
       "[36584 rows x 1 columns]"
      ]
     },
     "execution_count": 553,
     "metadata": {},
     "output_type": "execute_result"
    }
   ],
   "source": [
    "output"
   ]
  },
  {
   "cell_type": "code",
   "execution_count": null,
   "metadata": {},
   "outputs": [],
   "source": []
  }
 ],
 "metadata": {
  "kernelspec": {
   "display_name": "Python 3",
   "language": "python",
   "name": "python3"
  },
  "language_info": {
   "codemirror_mode": {
    "name": "ipython",
    "version": 3
   },
   "file_extension": ".py",
   "mimetype": "text/x-python",
   "name": "python",
   "nbconvert_exporter": "python",
   "pygments_lexer": "ipython3",
   "version": "3.8.3"
  }
 },
 "nbformat": 4,
 "nbformat_minor": 4
}
